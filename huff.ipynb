{
 "cells": [
  {
   "cell_type": "code",
   "execution_count": 67,
   "id": "24123ba1",
   "metadata": {},
   "outputs": [],
   "source": [
    "keys = ['E','N','G','I','R']\n",
    "items = [3,3,2,2,1]\n",
    "keys2 = list(keys)\n",
    "encode = []\n",
    "graph = {}"
   ]
  },
  {
   "cell_type": "code",
   "execution_count": 68,
   "id": "7a96a7a2",
   "metadata": {},
   "outputs": [],
   "source": [
    "def Huff(keys,items):\n",
    "    while len(items) > 1:\n",
    "        data = list(zip(items,keys))\n",
    "        data.sort(key=lambda x:x[0])\n",
    "        items,keys = zip(*data)\n",
    "        new = items[0] + items[1]\n",
    "        graph[new] = [keys[0],keys[1]]\n",
    "        items = list(items[2:])\n",
    "        keys = list(keys[2:])\n",
    "        items.append(new)\n",
    "        keys.append(new)\n",
    "    return new"
   ]
  },
  {
   "cell_type": "code",
   "execution_count": 69,
   "id": "5496c36c",
   "metadata": {},
   "outputs": [],
   "source": [
    "def dfs(visited,graph,node,bit):\n",
    "    if node in keys2:\n",
    "        visited.append(bit)\n",
    "        print(f\"Encoding for {node} is : {visited[1:]}\")\n",
    "    else:\n",
    "        visited.append(bit)\n",
    "        if node in graph:\n",
    "            bit=1\n",
    "            for neighbour in graph[node]:\n",
    "                if bit==1:\n",
    "                    bit=0\n",
    "                else:\n",
    "                    bit=1\n",
    "                dfs(visited.copy(),graph,neighbour,bit)"
   ]
  },
  {
   "cell_type": "code",
   "execution_count": 70,
   "id": "befc1bcc",
   "metadata": {},
   "outputs": [
    {
     "name": "stdout",
     "output_type": "stream",
     "text": [
      "Encoding for I is : [0, 0]\n",
      "Encoding for E is : [0, 1]\n",
      "Encoding for N is : [1, 0]\n",
      "Encoding for R is : [1, 1, 0]\n",
      "Encoding for G is : [1, 1, 1]\n"
     ]
    }
   ],
   "source": [
    "root = Huff(keys,items)\n",
    "dfs(encode,graph,root,1)"
   ]
  },
  {
   "cell_type": "code",
   "execution_count": null,
   "id": "753c493d",
   "metadata": {},
   "outputs": [],
   "source": []
  }
 ],
 "metadata": {
  "kernelspec": {
   "display_name": "Python 3 (ipykernel)",
   "language": "python",
   "name": "python3"
  },
  "language_info": {
   "codemirror_mode": {
    "name": "ipython",
    "version": 3
   },
   "file_extension": ".py",
   "mimetype": "text/x-python",
   "name": "python",
   "nbconvert_exporter": "python",
   "pygments_lexer": "ipython3",
   "version": "3.10.9"
  }
 },
 "nbformat": 4,
 "nbformat_minor": 5
}
