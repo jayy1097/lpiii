{
 "cells": [
  {
   "cell_type": "code",
   "execution_count": 47,
   "id": "18070424",
   "metadata": {},
   "outputs": [],
   "source": [
    "def Fibonacci(n):\n",
    "    ans = [0,1]\n",
    "    if n<=0:\n",
    "        return []\n",
    "    elif n==1:\n",
    "        return [0]\n",
    "    elif n==2:\n",
    "        return ans\n",
    "    else:\n",
    "        Fibo = Fibonacci(n-1)\n",
    "        Fibo.append(Fibo[-1] + Fibo[-2])\n",
    "    return Fibo\n",
    "def term(N):\n",
    "    fiboseries = Fibonacci(N)\n",
    "    return fiboseries[-2]+fiboseries[-1]\n",
    "def proof(N):\n",
    "    l=0\n",
    "    i=0\n",
    "    fiboseries = Fibonacci(N)\n",
    "    lhs = 0\n",
    "    for i in range(N):\n",
    "        lhs+=(fiboseries[i]*fiboseries[i])\n",
    "    temp = term(N)\n",
    "    rhs =  fiboseries[-1] * temp\n",
    "    print(lhs)\n",
    "    print(rhs)\n",
    "    if lhs==rhs:\n",
    "        print(\"PROVED\")\n",
    "    else:\n",
    "        print(\"FAIL\")"
   ]
  },
  {
   "cell_type": "code",
   "execution_count": 48,
   "id": "82caca49",
   "metadata": {},
   "outputs": [
    {
     "name": "stdout",
     "output_type": "stream",
     "text": [
      "Enter the no. of terms8\n",
      "Fibonacci of 8 numbers is : \n",
      "[0, 1, 1, 2, 3, 5, 8, 13]\n",
      "273\n",
      "273\n",
      "PROVED\n"
     ]
    }
   ],
   "source": [
    "N = int(input(\"Enter the no. of terms\"))\n",
    "print(f\"Fibonacci of {N} numbers is : \")\n",
    "ret = Fibonacci(N)\n",
    "print(ret)\n",
    "proof(N)"
   ]
  },
  {
   "cell_type": "code",
   "execution_count": null,
   "id": "6bf0a4ff",
   "metadata": {},
   "outputs": [],
   "source": []
  }
 ],
 "metadata": {
  "kernelspec": {
   "display_name": "Python 3 (ipykernel)",
   "language": "python",
   "name": "python3"
  },
  "language_info": {
   "codemirror_mode": {
    "name": "ipython",
    "version": 3
   },
   "file_extension": ".py",
   "mimetype": "text/x-python",
   "name": "python",
   "nbconvert_exporter": "python",
   "pygments_lexer": "ipython3",
   "version": "3.10.9"
  }
 },
 "nbformat": 4,
 "nbformat_minor": 5
}
