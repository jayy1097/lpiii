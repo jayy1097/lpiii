{
 "cells": [
  {
   "cell_type": "code",
   "execution_count": 71,
   "id": "d0bc919a",
   "metadata": {},
   "outputs": [],
   "source": []
  },
  {
   "cell_type": "code",
   "execution_count": 83,
   "id": "2aa6b69f",
   "metadata": {},
   "outputs": [],
   "source": [
    "class Item:\n",
    "    def __init__(self,value,weight):\n",
    "        self.value = value\n",
    "        self.weight = weight\n",
    "\n",
    "def Knapsack(W,arr):\n",
    "    final_value=0\n",
    "    arr.sort(key=lambda x:x.value/x.weight , reverse=True)\n",
    "    for item in arr:\n",
    "        if item.weight <= W:\n",
    "            final_value+=item.value\n",
    "            W-=item.weight\n",
    "        else:\n",
    "            final_value+=(W*item.value)/item.weight\n",
    "            break\n",
    "    return final_value"
   ]
  },
  {
   "cell_type": "code",
   "execution_count": 84,
   "id": "205e7e95",
   "metadata": {},
   "outputs": [
    {
     "name": "stdout",
     "output_type": "stream",
     "text": [
      "240.0\n"
     ]
    }
   ],
   "source": [
    "if __name__ == \"__main__\":\n",
    "    arr = [Item(60,10),Item(100,20),Item(120,30)]\n",
    "    W = 50\n",
    "    max_value = Knapsack(W,arr)\n",
    "    print(max_value)"
   ]
  },
  {
   "cell_type": "code",
   "execution_count": null,
   "id": "c77f988b",
   "metadata": {},
   "outputs": [],
   "source": []
  },
  {
   "cell_type": "code",
   "execution_count": null,
   "id": "2ea9ba5e",
   "metadata": {},
   "outputs": [],
   "source": []
  }
 ],
 "metadata": {
  "kernelspec": {
   "display_name": "Python 3 (ipykernel)",
   "language": "python",
   "name": "python3"
  },
  "language_info": {
   "codemirror_mode": {
    "name": "ipython",
    "version": 3
   },
   "file_extension": ".py",
   "mimetype": "text/x-python",
   "name": "python",
   "nbconvert_exporter": "python",
   "pygments_lexer": "ipython3",
   "version": "3.10.9"
  }
 },
 "nbformat": 4,
 "nbformat_minor": 5
}
